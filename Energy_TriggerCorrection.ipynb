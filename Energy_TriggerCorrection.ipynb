{
 "cells": [
  {
   "cell_type": "markdown",
   "metadata": {},
   "source": [
    "# This script calcutes energy from waveform file"
   ]
  },
  {
   "cell_type": "code",
   "execution_count": 1,
   "metadata": {},
   "outputs": [],
   "source": [
    "import pandas as pd\n",
    "import numpy as np\n",
    "import configparser as cp"
   ]
  },
  {
   "cell_type": "markdown",
   "metadata": {},
   "source": [
    "### Configure the lines below with filenames"
   ]
  },
  {
   "cell_type": "code",
   "execution_count": 2,
   "metadata": {},
   "outputs": [],
   "source": [
    "file_cfg_in = '../dados/aquisicoes/Testes_10Fev2021/TesteNa22/central/config.ini'         # config.ini file input\n",
    "\n",
    "file_in = ('../dados/aquisicoes/Testes_10Fev2021/TesteNa22/central/Waveform_0_0_1.txt',\\\n",
    "'../dados/aquisicoes/Testes_10Fev2021/TesteNa22/central/Waveform_0_1_1.txt',\\\n",
    "'../dados/aquisicoes/Testes_10Fev2021/TesteNa22/central/Waveform_0_2_1.txt',\\\n",
    "'../dados/aquisicoes/Testes_10Fev2021/TesteNa22/central/Waveform_0_3_1.txt',\\\n",
    "'../dados/aquisicoes/Testes_10Fev2021/TesteNa22/central/Waveform_0_4_1.txt',\\\n",
    "'../dados/aquisicoes/Testes_10Fev2021/TesteNa22/central/Waveform_0_5_1.txt',\\\n",
    "'../dados/aquisicoes/Testes_10Fev2021/TesteNa22/central/Waveform_0_6_1.txt',\\\n",
    "'../dados/aquisicoes/Testes_10Fev2021/TesteNa22/central/Waveform_0_7_1.txt',\\\n",
    "'../dados/aquisicoes/Testes_10Fev2021/TesteNa22/central/Waveform_1_0_1.txt',\\\n",
    "'../dados/aquisicoes/Testes_10Fev2021/TesteNa22/central/Waveform_1_1_1.txt',\\\n",
    "'../dados/aquisicoes/Testes_10Fev2021/TesteNa22/central/Waveform_1_2_1.txt',\\\n",
    "'../dados/aquisicoes/Testes_10Fev2021/TesteNa22/central/Waveform_1_3_1.txt',\\\n",
    "'../dados/aquisicoes/Testes_10Fev2021/TesteNa22/central/Waveform_1_4_1.txt',\\\n",
    "'../dados/aquisicoes/Testes_10Fev2021/TesteNa22/central/Waveform_1_5_1.txt',\\\n",
    "'../dados/aquisicoes/Testes_10Fev2021/TesteNa22/central/Waveform_1_6_1.txt',\\\n",
    "'../dados/aquisicoes/Testes_10Fev2021/TesteNa22/central/Waveform_1_7_1.txt')\n",
    "file_out = ('../dados/resultados/Testes_10Fev2021/TesteNa22/central/py_charge_0_0.txt',\\\n",
    "'../dados/resultados/Testes_10Fev2021/TesteNa22/central/py_charge_0_1.txt',\\\n",
    "'../dados/resultados/Testes_10Fev2021/TesteNa22/central/py_charge_0_2.txt',\\\n",
    "'../dados/resultados/Testes_10Fev2021/TesteNa22/central/py_charge_0_3.txt',\\\n",
    "'../dados/resultados/Testes_10Fev2021/TesteNa22/central/py_charge_0_4.txt',\\\n",
    "'../dados/resultados/Testes_10Fev2021/TesteNa22/central/py_charge_0_5.txt',\\\n",
    "'../dados/resultados/Testes_10Fev2021/TesteNa22/central/py_charge_0_6.txt',\\\n",
    "'../dados/resultados/Testes_10Fev2021/TesteNa22/central/py_charge_0_7.txt',\\\n",
    "'../dados/resultados/Testes_10Fev2021/TesteNa22/central/py_charge_1_0.txt',\\\n",
    "'../dados/resultados/Testes_10Fev2021/TesteNa22/central/py_charge_1_1.txt',\\\n",
    "'../dados/resultados/Testes_10Fev2021/TesteNa22/central/py_charge_1_2.txt',\\\n",
    "'../dados/resultados/Testes_10Fev2021/TesteNa22/central/py_charge_1_3.txt',\\\n",
    "'../dados/resultados/Testes_10Fev2021/TesteNa22/central/py_charge_1_4.txt',\\\n",
    "'../dados/resultados/Testes_10Fev2021/TesteNa22/central/py_charge_1_5.txt',\\\n",
    "'../dados/resultados/Testes_10Fev2021/TesteNa22/central/py_charge_1_6.txt',\\\n",
    "'../dados/resultados/Testes_10Fev2021/TesteNa22/central/py_charge_1_7.txt')"
   ]
  },
  {
   "cell_type": "markdown",
   "metadata": {},
   "source": [
    "### Read config.ini"
   ]
  },
  {
   "cell_type": "code",
   "execution_count": 3,
   "metadata": {},
   "outputs": [
    {
     "name": "stdout",
     "output_type": "stream",
     "text": [
      "threshold:  45\n",
      "record length:  150\n",
      "nsbl:  32\n",
      "pre-gate:  55\n",
      "gate:  90\n",
      "pulse polarity:  1  | 0 = positive; 1 = negative\n",
      "analog trace 2:  8  | 5 = baseline; 6 = threshold; 8 = none (dual trace off) | from waveform_b_c_2.txt\n",
      "pre-trigger size:  65\n",
      "number of events:  6296\n"
     ]
    }
   ],
   "source": [
    "## Read config.ini file and get the variables\n",
    "cfg = cp.RawConfigParser()\n",
    "cfg.read(file_cfg_in)\n",
    "\n",
    "#cfg.get('DPPCI','MAXNB')\n",
    "\n",
    "par = dict(cfg.items('DPPCI'))\n",
    "\n",
    "for p in par:\n",
    "    par[p]=par[p].split(\"#\",1)[0].strip() # To get rid of inline comments\n",
    "\n",
    "globals().update(par)  #Make them availible globally\n",
    "\n",
    "print('threshold: ', thr)\n",
    "thr = int(thr)\n",
    "print('record length: ', recordlength)\n",
    "recordlength = int(recordlength)\n",
    "\n",
    "options = {\n",
    "    '0': 0,\n",
    "    '1': 16,\n",
    "    '2': 32,\n",
    "    '3': 128}\n",
    "nsbl = options.get(nsbl, 'invalid data')\n",
    "print('nsbl: ', nsbl)\n",
    "nsbl = int(nsbl)\n",
    "print('pre-gate: ', pgate)\n",
    "pgate = int(pgate)\n",
    "print('gate: ', gate)\n",
    "gate = int(gate)\n",
    "print('pulse polarity: ', pulsepolarity, ' | 0 = positive; 1 = negative')\n",
    "print('analog trace 2: ', analog_trace_2, ' | 5 = baseline; 6 = threshold; 8 = none (dual trace off) | from waveform_b_c_2.txt')\n",
    "pretriggersize = int(pretriggersize)\n",
    "print('pre-trigger size: ', pretriggersize)\n",
    "\n",
    "nevt = len(pd.read_csv(file_in[0], header = None, sep = '\\t')) #Take events grom Waveform_0_0_1.txt\n",
    "print('number of events: ', nevt)"
   ]
  },
  {
   "cell_type": "markdown",
   "metadata": {},
   "source": [
    "### If the config values in config.ini were wrong, force with the values below\n",
    "#### Example:\n",
    "<ul>\n",
    "<li>threshold:  45</li>\n",
    "<li>record length:  150</li>\n",
    "<li>nsbl:  32</li>\n",
    "<li>pre-gate:  55</li>\n",
    "<li>gate:  90</li>\n",
    "<li>pulse polarity:  1  | 0 = positive; 1 = negative</li>\n",
    "<li>analog trace 2:  8  | 5 = baseline; 6 = threshold; 8 = none (dual trace off) | from waveform_b_c_2.txt</li>\n",
    "<li>pre-trigger size:  65</li>\n",
    "<li>number of events:  6296</li>\n",
    "</ul>\n",
    "\n",
    "<img src=\"./energia-16canais-pulso.png\">\n",
    "<img src=\"./energia-16canais-pulso16.png\">\n",
    "\n",
    "\n",
    "There is a delay for board 0 (channels 0 to 7) and another for board 1 (channels 8 to 15)."
   ]
  },
  {
   "cell_type": "code",
   "execution_count": 4,
   "metadata": {},
   "outputs": [],
   "source": [
    "## Add these lines only if necessary to force the values:\n",
    "\n",
    "#nevt = 7442\n",
    "# analog_trace_2 = '8'\n",
    "recordlength = 144\n",
    "nsbl = 5\n",
    "shift = 0 # number of samples to shift left to calculate the baseline\n",
    "nchannels = 16 # number of channels"
   ]
  },
  {
   "cell_type": "markdown",
   "metadata": {},
   "source": [
    "### Process 16 pulses and calculates energy\n",
    "\n",
    "<img src=\"files/energia-16canais-pulsos.png\">\n",
    "\n",
    "The baseline is unconsistent due the different delay values for each board.<br>\n",
    "In this specific case, is necessary to re-calculate the baseline for a better value."
   ]
  },
  {
   "cell_type": "code",
   "execution_count": null,
   "metadata": {},
   "outputs": [],
   "source": [
    "## Processing pulses\n",
    "for k in range(0, nchannels):\n",
    "    val_chg = np.zeros(nevt, dtype = int) \n",
    "    val_bsl = np.zeros((nevt, recordlength), int)    \n",
    "    val_pls = pd.read_csv(file_in[k], header = None, sep = '\\t', nrows=nevt)\n",
    "    val_pls = val_pls.to_numpy()\n",
    "    for j in range(0, nevt):  \n",
    "\n",
    "        # Baseline\n",
    "        # val_bsl (from file or from this algorithm)\n",
    "        if (analog_trace_2 != '5'):    \n",
    "            for i in range(0, recordlength):   \n",
    "                if ((i > (recordlength - nsbl)) or (i < nsbl)):                                    \n",
    "                    val_bsl[j, i] = val_pls[j, i]\n",
    "                else:                \n",
    "                    val_bsl[j, i] = round(np.sum(val_pls[j, (i - nsbl) : i]) / nsbl)       \n",
    "\n",
    "        # Energy    \n",
    "        for i in range(pretriggersize - pgate, pretriggersize + gate - pgate):         \n",
    "            #print('Trg: {}, Pos: {}, Bsl-st: {}, Bsl-fi: {}'.format(pos_trg[j], i, val_bsl[j, pos_trg[j] - pgate], val_bsl[j, pos_trg[j] + gate - pgate]))\n",
    "            if pulsepolarity == '0':\n",
    "                bl = val_bsl[j, pretriggersize - pgate - shift]\n",
    "#                 if val_pls[j, i] >= bl: # ignore negative samples\n",
    "#                     val_chg[j] = val_chg[j] + (val_pls[j, i] - bl) #freeze baseline value in gate start  \n",
    "                val_chg[j] = val_chg[j] + (val_pls[j, i] - bl) #freeze baseline value in gate start                                      \n",
    "            else:\n",
    "                bl = val_bsl[j, pretriggersize - pgate - shift]\n",
    "#                 if val_pls[j, i] <= bl: # ignore positive samples\n",
    "#                     val_chg[j] = val_chg[j] - (val_pls[j, i]  - bl)   \n",
    "                val_chg[j] = val_chg[j] - (val_pls[j, i] - bl) #freeze baseline value in gate start      \n",
    "    \n",
    "    #Save charges into file  \n",
    "    np.savetxt(file_out[k], abs(val_chg), fmt='%d') "
   ]
  },
  {
   "cell_type": "code",
   "execution_count": null,
   "metadata": {},
   "outputs": [],
   "source": []
  }
 ],
 "metadata": {
  "finalized": {
   "timestamp": 1621607772509,
   "trusted": true
  },
  "kernelspec": {
   "display_name": "Python 3",
   "language": "python",
   "name": "python3"
  },
  "language_info": {
   "codemirror_mode": {
    "name": "ipython",
    "version": 3
   },
   "file_extension": ".py",
   "mimetype": "text/x-python",
   "name": "python",
   "nbconvert_exporter": "python",
   "pygments_lexer": "ipython3",
   "version": "3.8.5"
  }
 },
 "nbformat": 4,
 "nbformat_minor": 4
}
