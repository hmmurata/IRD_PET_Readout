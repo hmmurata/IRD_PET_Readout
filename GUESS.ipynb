{
 "cells": [
  {
   "cell_type": "markdown",
   "id": "similar-sacrifice",
   "metadata": {},
   "source": [
    "# GUESS function\n",
    "<p>version 0.1</p>\n",
    "<p>Based on algorithm from thesis:</p>\n",
    "<p><b>Bonifácio, Daniel A. B.</b> <i>Modelagem de sistema de detecção para mamografia por emissão de pósitrons utilizando detectores cintiadores monolíticos</i>, pg. 106, University of São Paulo, doctorate thesis, 2011.</p>\n",
    "<p>Developed in iPython by Murata, H.</p>\n",
    "<p>2021</p>"
   ]
  },
  {
   "cell_type": "code",
   "execution_count": 1,
   "id": "robust-addiction",
   "metadata": {},
   "outputs": [],
   "source": [
    "# Imports\n",
    "import pandas as pd            # shift array and other stuff\n",
    "import numpy as np             # linear algebra and other stuff\n",
    "import glob                    # read files\n",
    "import configparser as cp      # read config file\n",
    "import math                    # maths (sqrt, pi, etc.)\n",
    "import matplotlib.pyplot as plt# visualization"
   ]
  },
  {
   "cell_type": "markdown",
   "id": "satellite-queens",
   "metadata": {},
   "source": [
    "---\n",
    "### Inputs:"
   ]
  },
  {
   "cell_type": "code",
   "execution_count": 2,
   "id": "conditional-reply",
   "metadata": {},
   "outputs": [],
   "source": [
    "# Data directory\n",
    "dataDir = \"../../../dados/aquisicoes/Testes_10Fev2021/colimador_1mm/central (16h)/\"\n",
    "\n",
    "# config.ini file input\n",
    "fileConfig = \"config.ini\"\n",
    "\n",
    "# Charge file name prefix\n",
    "prefixCharge = \"Charge_\"\n",
    "\n",
    "# Timing file name prefix\n",
    "prefixTime = \"Timetag_\"\n",
    "\n",
    "# From CAEN digitizer\n",
    "nBoards   = 2\n",
    "nChannels = 8        # per boards"
   ]
  },
  {
   "cell_type": "markdown",
   "id": "forbidden-payment",
   "metadata": {},
   "source": [
    "---\n",
    "### Configuration:"
   ]
  },
  {
   "cell_type": "code",
   "execution_count": 3,
   "id": "organized-arthritis",
   "metadata": {},
   "outputs": [
    {
     "name": "stdout",
     "output_type": "stream",
     "text": [
      "Readout size: FRONT\n",
      "Number of SiPMs in x-axis: 8\n",
      "Number of SiPMs in y-axis: 8\n",
      "SiPM pixel size in x-axis: 6 mm\n",
      "SiPM pixel size in y-axis: 6 mm\n",
      "Coordinates of each SiPM center in x-axis: [-12.6, -9.0, -5.4, -1.8, 1.8, 5.4, 9.0, 12.6] mm\n",
      "Coordinates of each SiPM center in y-axis: [-12.6, -9.0, -5.4, -1.8, 1.8, 5.4, 9.0, 12.6] mm\n"
     ]
    }
   ],
   "source": [
    "## Read config.ini file and get the variables\n",
    "cfg = cp.RawConfigParser()\n",
    "cfg.optionxform = str  # To preserve case in variable names\n",
    "cfg.read(fileConfig)\n",
    "par = dict(cfg.items('SIPM'))\n",
    "for p in par:\n",
    "    par[p]=par[p].split(\"#\",1)[0].strip() # To get rid of inline comments\n",
    "globals().update(par)  # Make them availible globally\n",
    "\n",
    "print(\"Readout size:\", readoutSize)\n",
    "\n",
    "xSiPMs = int(xSiPMs)\n",
    "print(\"Number of SiPMs in x-axis:\", xSiPMs)\n",
    "\n",
    "ySiPMs = int(ySiPMs)\n",
    "print(\"Number of SiPMs in y-axis:\", ySiPMs)\n",
    "\n",
    "xPixelSize = int(xPixelSize)\n",
    "print(\"SiPM pixel size in x-axis:\", xPixelSize, \"mm\")\n",
    "\n",
    "yPixelSize = int(yPixelSize)\n",
    "print(\"SiPM pixel size in y-axis:\", yPixelSize, \"mm\")\n",
    "\n",
    "xSiPMCenter = xSiPMCenter.split()\n",
    "for i in range(xSiPMs):\n",
    "    xSiPMCenter[i] = float(xSiPMCenter[i])\n",
    "print(\"Coordinates of each SiPM center in x-axis:\", xSiPMCenter, \"mm\")\n",
    "\n",
    "ySiPMCenter = ySiPMCenter.split()\n",
    "for i in range(ySiPMs):\n",
    "    ySiPMCenter[i] = float(ySiPMCenter[i])\n",
    "print(\"Coordinates of each SiPM center in y-axis:\", ySiPMCenter, \"mm\")\n",
    "\n",
    "# print(par)"
   ]
  },
  {
   "cell_type": "markdown",
   "id": "upset-hawaii",
   "metadata": {},
   "source": [
    "---\n",
    "### Some calculations:"
   ]
  },
  {
   "cell_type": "code",
   "execution_count": 4,
   "id": "accessible-consolidation",
   "metadata": {},
   "outputs": [],
   "source": [
    "# Pitches calculation in x and y-axis\n",
    "xPitch = 7.2\n",
    "yPitch = 7.2\n",
    "X = np.zeros(xSiPMs, dtype=np.float)\n",
    "sX = xPixelSize / 3\n",
    "for i in range(xSiPMs):\n",
    "    X[i] = ((i * xPitch) - (xSiPMs * xPitch / 2)) + (xPitch / 2)\n",
    "    \n",
    "Y = np.zeros(ySiPMs, dtype=np.float)\n",
    "sY = yPixelSize / 3\n",
    "for i in range(ySiPMs):\n",
    "    Y[i] = ((i * yPitch) - (ySiPMs * yPitch / 2)) + (yPitch / 2)\n",
    "    "
   ]
  },
  {
   "cell_type": "markdown",
   "id": "electrical-pound",
   "metadata": {},
   "source": [
    "---\n",
    "### Some informations:"
   ]
  },
  {
   "cell_type": "code",
   "execution_count": 5,
   "id": "qualified-arnold",
   "metadata": {},
   "outputs": [
    {
     "name": "stdout",
     "output_type": "stream",
     "text": [
      "Critical angle (Crystal/Optical coupling) is   2.3928850869301543\n",
      "Critical angle (Crystal/Intermediate layer) is 2.3928850869301543\n",
      "Critical angle (Crystal/MAPD-3N Epoxy) is      2.3224413952584806\n"
     ]
    }
   ],
   "source": [
    "# Print some informations\n",
    "print(\"Critical angle (Crystal/Optical coupling) is  \", math.pi * math.sin(float(refIndexOptC)/float(refIndexCrys)))\n",
    "print(\"Critical angle (Crystal/Intermediate layer) is\", math.pi * math.sin(float(refIndexIntL)/float(refIndexCrys)))\n",
    "print(\"Critical angle (Crystal/MAPD-3N Epoxy) is     \", math.pi * math.sin(float(refIndexProt)/float(refIndexCrys)))"
   ]
  },
  {
   "cell_type": "markdown",
   "id": "marked-convergence",
   "metadata": {},
   "source": [
    "---\n",
    "### Read charge and time data from CAEN digitizer\n",
    "\n",
    "<p><b>CAEN Charge values are stored in:</b> vecCharge[b, c]</p>\n",
    "<p><b>CAEN Time values are stored in: </b>  vecTime[b, c]</p>\n",
    "<p>b: boards, c: channels</p>"
   ]
  },
  {
   "cell_type": "code",
   "execution_count": 6,
   "id": "acute-wallpaper",
   "metadata": {},
   "outputs": [
    {
     "name": "stdout",
     "output_type": "stream",
     "text": [
      "Total charge and time data: 50432 events.\n",
      "CAEN events variable are stored in nCAENEvents.\n"
     ]
    }
   ],
   "source": [
    "# Read data files to get the size (number of lines) normalizing to the file with the fewest lines \n",
    "\n",
    "nCAENEvents = 0\n",
    "for nB in range(nBoards):\n",
    "#     print(\" Board: {b}\".format(b = nB))\n",
    "    for nC in range(nChannels):               \n",
    "        chargeFileName = dataDir + prefixCharge + str(nB) + \"_\" + str(nC) + \".txt\"\n",
    "        num_lines = sum(1 for line in open(chargeFileName))\n",
    "#         print(\" Channel: {c} - Nb of events: {d}\".format(c = nC, d = num_lines)) \n",
    "        \n",
    "        # prevents different number of lines (events) between channels an chooses the channel with the lowest \n",
    "        if ((nB == 0) and (nC == 0)):\n",
    "            nCAENEvents = num_lines\n",
    "        elif num_lines < nCAENEvents:\n",
    "                nCAENEvents = num_lines\n",
    "\n",
    "# Number of data cut to the minimum value between all files\n",
    "# print(\"Number of events to use: {nl}\".format(nl = nCAENEvents))\n",
    "\n",
    "# Read data and put the Time Tag in matrices\n",
    "# Using the extended Time (second column) \n",
    "vecTime = np.zeros((nBoards, nChannels, nCAENEvents), dtype=np.double)\n",
    "overflTime = 2**32-1;  #4294967295\n",
    "for nB in range(nBoards):\n",
    "    for nC in range(nChannels):               \n",
    "        timeFileName = dataDir + prefixTime + str(nB) + \"_\" + str(nC) + \".txt\"\n",
    "        a, b = np.genfromtxt(timeFileName, unpack=True)\n",
    "        for line in range(nCAENEvents):\n",
    "            vecTime[nB, nC, line] = a[line] + b[line] * overflTime\n",
    "            \n",
    "# Read data and put the charge in matrices\n",
    "vecCharge= np.zeros((nBoards, nChannels, nCAENEvents), dtype=np.double)\n",
    "for nB in range(nBoards):\n",
    "    for nC in range(nChannels):               \n",
    "        chargeFileName = dataDir + prefixCharge + str(nB) + \"_\" + str(nC) + \".txt\"\n",
    "        a = np.genfromtxt(chargeFileName, unpack=True)\n",
    "        for line in range(nCAENEvents):\n",
    "            vecCharge[nB, nC, line] = a[line]\n",
    "\n",
    "\n",
    "print('Total charge and time data:', nCAENEvents, 'events.')   \n",
    "print('CAEN events variable are stored in nCAENEvents.')"
   ]
  },
  {
   "cell_type": "markdown",
   "id": "brave-horizontal",
   "metadata": {},
   "source": [
    "---\n",
    "### Align charge and time data\n",
    "\n",
    "<p><b>Aligned Charge values:</b> shVecCharge[b, c]</p>\n",
    "<p><b>Aligned Time values:</b> shVecTime[b, c]</p>\n",
    "<p>b: boards, c: channels</p>"
   ]
  },
  {
   "cell_type": "code",
   "execution_count": 7,
   "id": "durable-satellite",
   "metadata": {},
   "outputs": [
    {
     "name": "stdout",
     "output_type": "stream",
     "text": [
      "Alignment found in  1  line(s) at least.\n",
      "Total aligned charge and time data: 50431  events.\n",
      "Aligned events variable are stored in nEvents.\n"
     ]
    }
   ],
   "source": [
    "## Using the differences between Time Tags of channel 1, we find the first aligned line of each board\n",
    "## Two values of the time difference between three subsequent lines will be used as condition to\n",
    "## assign the lines as aligned in time\n",
    "\n",
    "# print(\"Alignment of events starting...\")\n",
    "maxTimeDiff   = math.sqrt(2) * 50 # maximum time difference for events in the same Trigger Time Tag\n",
    "linesToSearch = 150               # maximum line to alignment match\n",
    "refChan = 0 # reference channel    \n",
    "refLine = 0 # reference line\n",
    "matchLine = 0 # match line\n",
    "\n",
    "# fill time differences in vectors [b x c x l]\n",
    "td = np.zeros((nBoards, nChannels, linesToSearch), dtype=np.int) \n",
    "for nB in range(nBoards):\n",
    "    for nC in range(nChannels):\n",
    "        for nL in range(linesToSearch):\n",
    "            td[nB, nC, nL] = vecTime[nB, nC, nL + 1] - vecTime[nB, nC, nL]\n",
    "\n",
    "\n",
    "# take one time difference value and compares to all data\n",
    "def searchAlignment(s):    \n",
    "    for nB in range(nBoards):    \n",
    "        for nC in range(nChannels):        \n",
    "            for nL in range(linesToSearch):\n",
    "                # return results in an array of True or False\n",
    "                td_array = np.isclose(td[nB, nC, nL], td, atol = maxTimeDiff)                  \n",
    "                result = np.where(td_array == True)   \n",
    "                b = result[0] # Boards\n",
    "                c = result[1] # Channels\n",
    "                l = result[2] # Events\n",
    "\n",
    "                # Is necessary an alignment match with all data \n",
    "                if (len(result[0]) == nBoards * nChannels):                                \n",
    "                    for i in range(len(result[0])):\n",
    "                        s[b[i], c[i]] = l[i]  \n",
    "                    return\n",
    "\n",
    "# shift lines for each board and channels:\n",
    "shift = np.ones((nBoards, nChannels), dtype=np.int) \n",
    "shift = shift * (-1) \n",
    "searchAlignment(shift)\n",
    "\n",
    "if(np.max(shift) > linesToSearch - 1):\n",
    "    print('No alignment found. Maybe is necessary to modify linesToSearch or increase maxTimeDiff variable.')    \n",
    "else:\n",
    "    print('Alignment found in ', np.max(shift), ' line(s) at least.')\n",
    "\n",
    "\n",
    "def shiftEvents(a, idB, idC, shiftleft):\n",
    "    if (shiftleft > 0):\n",
    "        a[idB, idC, :] = np.roll(a[idB, idC, :], shiftleft * (-1))\n",
    "        a[idB, idC, shiftleft * (-1):] = 0\n",
    "    return a\n",
    "\n",
    "tmp_vecTime = np.copy(vecTime)\n",
    "tmp_vecCharge = np.copy(vecCharge)\n",
    "\n",
    "\n",
    "for nB in range(nBoards):\n",
    "    for nC in range(nChannels):        \n",
    "        shVecTime = shiftEvents(tmp_vecTime, nB, nC, shift[nB, nC])\n",
    "        shVecCharge = shiftEvents(tmp_vecCharge, nB, nC, shift[nB, nC])\n",
    "\n",
    "cutArray = np.max(shift) * (-1)\n",
    "\n",
    "shVecTime = shVecTime[:, :, :cutArray]\n",
    "shVecCharge = shVecCharge[:, :, :cutArray]\n",
    "\n",
    "nEvents = len(shVecTime[0,0])\n",
    "print('Total aligned charge and time data:', len(shVecTime[0,0]), ' events.')\n",
    "print('Aligned events variable are stored in nEvents.')"
   ]
  },
  {
   "cell_type": "markdown",
   "id": "genetic-estimate",
   "metadata": {},
   "source": [
    "---\n",
    "### Overflow correction for aligned charge and time data\n",
    "\n",
    "<p><b>Aligned and overflow corrected Charge values:</b> matCharge[b, c]</p>\n",
    "<p><b>Aligned and overflow corrected Time values:</b> matTime[b, c]</p>\n",
    "<p>b: boards, c: channels</p>"
   ]
  },
  {
   "cell_type": "code",
   "execution_count": 8,
   "id": "diagnostic-screening",
   "metadata": {},
   "outputs": [],
   "source": [
    "# Mount a new matrices with the aligned time tags and charge values\n",
    "# overflow value 32767 will be set to 0\n",
    "matTime = np.copy(shVecTime)\n",
    "matCharge = np.copy(shVecCharge)\n",
    "\n",
    "matCharge[matCharge > 32700] = 0"
   ]
  },
  {
   "cell_type": "code",
   "execution_count": 12,
   "id": "brown-blade",
   "metadata": {},
   "outputs": [],
   "source": [
    "dataOutDir = \"../../../dados/resultados/Testes_10Fev2021/colimador_1mm/central (16h)/\"\n",
    "for nB in range(nBoards):\n",
    "    for nC in range(nChannels):\n",
    "        chargeOutFileName = dataOutDir + \"out\" + prefixCharge + str(nB) + \"_\" + str(nC) + \".txt\"\n",
    "        np.savetxt(chargeOutFileName, matCharge[nB, nC], fmt='%d')"
   ]
  },
  {
   "cell_type": "markdown",
   "id": "secondary-globe",
   "metadata": {},
   "source": [
    "---\n",
    "### Background removal\n",
    "<p>The initial value of the parameter which represents the <i>background</i> radiation ($Nph_{BG}$)\n",
    "is defined as the simple average of the two signals ($Nph_{low1}$ and $Nph_{low2}$)\n",
    "of the lowest intensity collected by the sum in a row or column by the SiPM matrix:</p> <br>\n",
    "$$ Nph_{BG} = \\frac{Nph_{low1} + Nph_{low2}}{2}$$\n",
    "<p>Where event data for $n$ channels is defined by:</p> <br>\n",
    "$$ Nph = [Nph_0, Nph_1, ... , Nph_{n - 1}]$$ <br>\n",
    "<p>The background $Nph_{BG}$ is removed from all event data and negative data is 0 ($Nph_{cond(i)} \\Rightarrow Nph_i - Nph_{BG} > 0$, $i$ = channel number). The new event data is $Nph_{NoBG}$</p> <br>\n",
    "$$ Nph_{NoBG} = [(Nph_{cond(0)} \\rightarrow  (Nph_0 - Nph_{BG}))\\wedge(\\neg Nph_{cond(0)} \\rightarrow  0), (Nph_{cond(1)} \\rightarrow  (Nph_1 - Nph_{BG}))\\wedge(\\neg Nph_{cond(1)} \\rightarrow  0), ... , (Nph_{cond(n-1)} \\rightarrow  (Nph_{n-1} - Nph_{BG}))\\wedge(\\neg Nph_{cond(n-1)} \\rightarrow  0)]$$"
   ]
  },
  {
   "cell_type": "code",
   "execution_count": 9,
   "id": "musical-timeline",
   "metadata": {},
   "outputs": [],
   "source": [
    "def background(data, b, c_inf, c_sup, event):        \n",
    "    \"\"\"\n",
    "    Parameters\n",
    "    ----------\n",
    "    data   : Multi-dimensional array (float)\n",
    "             data[b, c, e] where:\n",
    "                b = board\n",
    "                c = channel\n",
    "                e = event\n",
    "    b      : Number of the board related to an axis. \n",
    "             A range of channels between c_inf and c_sup of the board 'b' belong the X/Y-Axis.\n",
    "    c_inf  : inferior channel of the channels range from board 'b' belong the X/Y-Axis.\n",
    "    c_sup  : superior channel of the channels range from board 'b' belong the X/Y-Axis.\n",
    "    events : Total number of events.\n",
    "    \"\"\"     \n",
    "    Nphlow1 = sorted(data[b, range(c_inf, c_sup + 1, 1), event], reverse = True)[-1]\n",
    "    Nphlow2 = sorted(data[b, range(c_inf, c_sup + 1, 1), event], reverse = True)[-2]    \n",
    "    NphBG = (Nphlow1 + Nphlow2) / 2    \n",
    "    NphNoBG = data[b, range(c_inf, c_sup + 1, 1), event] - NphBG\n",
    "    NphNoBG[NphNoBG < 0] = 0\n",
    "#     print(data[b, range(c_inf, c_sup + 1, 1), event])\n",
    "#     print(Nphlow1)\n",
    "#     print(Nphlow2)\n",
    "#     print(NphBG)\n",
    "#     print(NphNoBG)\n",
    "    return NphNoBG"
   ]
  },
  {
   "cell_type": "markdown",
   "id": "flexible-trustee",
   "metadata": {},
   "source": [
    "---\n",
    "### Zero outliers removal\n",
    "<p>Data that deviate from the trend of distribution of the collected signals. </p>\n",
    "<p>The algorithm to zero outliers removal is:</p>\n",
    "<ol>\n",
    "    <li>$$i_{max} = \\{ i \\in \\mathbb{N}_{[n]} | arg \\, max_{i}(Nph) \\},[n]=\\{0, 1, ..., n -1\\} $$</li><br>\n",
    "    <li>$$\\forall i \\in \\{i_{max},  n - 1\\} (Nph_{i} = 0 \\rightarrow Nph_{i + 1} = 0), i < n - 1$$</li><br>\n",
    "    <li>$$\\forall i \\in \\{i_{max}, 0\\} (Nph_{i} = 0 \\rightarrow Nph_{i - 1} = 0), i > 0$$</li>\n",
    "</ol>\n"
   ]
  },
  {
   "cell_type": "code",
   "execution_count": 10,
   "id": "reduced-suicide",
   "metadata": {},
   "outputs": [],
   "source": [
    "def zeroOutliers(data):        \n",
    "    \"\"\"\n",
    "    Parameters\n",
    "    ----------\n",
    "    data   : event data array (float).\n",
    "    \"\"\"       \n",
    "    iMax = np.where(data == sorted(data, reverse = False)[-1])\n",
    "    iZeros = np.where(data == 0)    \n",
    "    \n",
    "    NphZO = np.copy(data)\n",
    "    if (iZeros[0][0] < iMax[0][0]):\n",
    "        NphZO[:iZeros[0][0]] = 0\n",
    "    else:\n",
    "        NphZO[iZeros[0][0]:] = 0 \n",
    "#     print(data)\n",
    "#     print(NphZO[:iMax[0][0]] )\n",
    "#     print(NphZO[iMax[0][0]:] )\n",
    "    return NphZO"
   ]
  },
  {
   "cell_type": "markdown",
   "id": "descending-mileage",
   "metadata": {},
   "source": [
    "---\n",
    "### Outliers removal\n",
    "<p>Data that deviate from the trend of distribution of the collected signals. </p>\n",
    "<p>The algorithm to outliers removal is:</p>\n",
    "<ol>\n",
    "    <li>$$i_{max} = \\{ i \\in \\mathbb{N}_{[n]} | arg \\, max_{i}(Nph) \\},[n]=\\{0, 1, ..., n -1\\} $$</li><br>\n",
    "    <li>$$\\forall i \\in \\{i_{max},  n - 1\\} (Nph_{i} > Nph_{i+1} \\rightarrow Nph_i = 0), i < n - 1$$</li><br>\n",
    "    <li>$$\\forall i \\in \\{i_{max}, 0\\} (Nph_{i} > Nph_{i+1} \\rightarrow Nph_{i - 1} = 0), i > 0$$</li>\n",
    "</ol>"
   ]
  },
  {
   "cell_type": "code",
   "execution_count": 11,
   "id": "instant-allergy",
   "metadata": {},
   "outputs": [],
   "source": [
    "def outliers(data):\n",
    "    \"\"\"\n",
    "    Parameters\n",
    "    ----------\n",
    "    data   : event data array (float).\n",
    "    \"\"\"  \n",
    "    iMax = np.where(data == sorted(data, reverse = False)[-1])           \n",
    "    NphO = np.copy(data)\n",
    "    \n",
    "    leftSide = NphO[:iMax[0][0]]\n",
    "    rightSide = NphO[iMax[0][0]:]\n",
    "    \n",
    "    if (sorted(leftSide, reverse = False) != leftSide.tolist()):\n",
    "        iMin = np.where(NphO == sorted(leftSide, reverse = True)[-1])\n",
    "        NphO[:iMin[0][0]] = 0 \n",
    "    \n",
    "    if (sorted(rightSide, reverse = True) != rightSide.tolist()):\n",
    "        iMin = np.where(NphO == sorted(rightSide, reverse = True)[-1])\n",
    "        NphO[iMin[0][0]:] = 0         \n",
    "                \n",
    "   \n",
    "    return NphO"
   ]
  },
  {
   "cell_type": "markdown",
   "id": "processed-frank",
   "metadata": {},
   "source": [
    "---\n",
    "### Weighted average of signals \n",
    "<ol>\n",
    "    <li> $$ \\overline{u} = \\frac{\\sum{(Nph_i - 0.4Nph_{i_{max}})}u_i}{\\sum{(Nph_i - 0.4Nph_{i_{max}})}}$$\n",
    "        where:    \n",
    "    $$i_{max} = \\{ i \\in \\mathbb{N}_{[n]} | arg \\, max_{i}(Nph) \\},[n]=\\{0, 1, ..., n -1\\} $$</li><br>\n",
    "    <li> $$ Nph_{term} = Nph_i - 0.4Nph_{i_{max}}$$ </li><br>\n",
    "    <li>$$\\forall i \\in \\{0,  n - 1\\} (Nph_{term} < 0 \\rightarrow Nph_{term} = 0)$$</li><br>\n",
    "    <li>$$\\forall i \\in \\{i_{max},  n - 1\\} (Nph_{i} <  Nph_{i - 1} \\rightarrow \\overline{u}), i < n - 1$$</li><br>\n",
    "    <li>$$\\forall i \\in \\{i_{max}, 0\\} (Nph_{i} < Nph_{i + 1} \\rightarrow \\overline{u}), i > 0$$</li>\n",
    "</ol>"
   ]
  },
  {
   "cell_type": "code",
   "execution_count": 12,
   "id": "deluxe-portland",
   "metadata": {},
   "outputs": [],
   "source": [
    " def average(data, c_inf, c_sup, axis): \n",
    "    \"\"\"\n",
    "    Parameters\n",
    "    ----------\n",
    "    data   : event data array (float).\n",
    "    c_inf  : inferior channel of the channels range from board 'b' belong the X/Y-Axis.\n",
    "    c_sup  : superior channel of the channels range from board 'b' belong the X/Y-Axis.\n",
    "    axis   : X/Y-Axis with pitches\n",
    "    \"\"\"      \n",
    "    fach = 0.4    \n",
    "    NphSup = 0.;    \n",
    "    NphInf = 0.;\n",
    "    NphSupTerm = 0.;\n",
    "    iMax = np.where(data == sorted(data, reverse = False)[-1])    \n",
    "    Nph = np.copy(data)  \n",
    "    \n",
    "    for i in range(c_inf, c_sup + 1, 1):        \n",
    "        NphSupTerm = Nph[i] - fach * Nph[iMax[0][0]]\n",
    "        if (NphSupTerm < 0):\n",
    "            NphSupTerm = 0\n",
    "        NphSup = NphSup + axis[iMax[0][0]] * NphSupTerm\n",
    "        NphInf = NphInf + NphSupTerm\n",
    "    NphInf = 1\n",
    "    NphAvg = NphSup / NphInf       \n",
    "    return NphAvg"
   ]
  },
  {
   "cell_type": "markdown",
   "id": "federal-shaft",
   "metadata": {},
   "source": [
    "---\n",
    "### Guess function:"
   ]
  },
  {
   "cell_type": "code",
   "execution_count": 13,
   "id": "religious-powell",
   "metadata": {},
   "outputs": [],
   "source": [
    "# Guess function\n",
    "#def guess(n, Max, Min, Y, Nph, sNph):\n",
    "def guess(data, b, c_inf, c_sup, event, axis):\n",
    "    \n",
    "    # Background calculation (NphBG)\n",
    "    NphNoBG = background(data, b, c_inf, c_sup, event)    \n",
    "    \n",
    "    # Outliers removal (can be used Zero Outliers Removal)\n",
    "    NphO = outliers(NphNoBG)\n",
    "    \n",
    "    # average\n",
    "    NphAvg = average(NphO, c_inf, c_sup, axis)    \n",
    "\n",
    "    return NphAvg"
   ]
  },
  {
   "cell_type": "markdown",
   "id": "color-pointer",
   "metadata": {},
   "source": [
    "---\n",
    "### Get X/Y data from Guess method:\n",
    "\n",
    "<p>Populates data set with x and y values</p>"
   ]
  },
  {
   "cell_type": "code",
   "execution_count": 14,
   "id": "sunrise-guide",
   "metadata": {},
   "outputs": [],
   "source": [
    "# Choose the number of events:\n",
    "# for only CAEN digitizer events use nCAENEvents\n",
    "# for aligned or aligned with overflow correction use nEvents\n",
    "events = nEvents\n",
    "#events = nCAENEvents\n",
    "\n",
    "xValues = np.zeros(events, dtype=np.float)\n",
    "yValues = np.zeros(events, dtype=np.float)\n",
    "\n",
    "# Choose the charge data:\n",
    "# for only CAEN digitizer charge data use vecCharge\n",
    "# for aligned charge data use shVecCharge\n",
    "# for aligned and overflow correction charge data use matCharge\n",
    "chargeData = matCharge\n",
    "#chargeData = vecCharge\n",
    "#chargeData = shVecCharge\n",
    "\n",
    "for i in range(events):\n",
    "    xValues[i] = guess(chargeData, 0, 0, 7, i, X)\n",
    "    yValues[i] = guess(chargeData, 1, 0, 7, i, Y)"
   ]
  },
  {
   "cell_type": "markdown",
   "id": "technical-count",
   "metadata": {},
   "source": [
    "---\n",
    "### Data visualization:\n",
    "<p>Dispersion:</p>"
   ]
  },
  {
   "cell_type": "code",
   "execution_count": 15,
   "id": "minus-frost",
   "metadata": {},
   "outputs": [
    {
     "data": {
      "image/png": "[encoded data removed]",
      "text/plain": [
       "<Figure size 432x288 with 1 Axes>"
      ]
     },
     "metadata": {
      "needs_background": "light"
     },
     "output_type": "display_data"
    }
   ],
   "source": [
    "mPixel = 4\n",
    "imgChannels = mPixel * nChannels\n",
    "vecPixels = np.linspace(((-1) * imgChannels / 2 + 1),(imgChannels / 2 - 1), imgChannels - 1)\n",
    "\n",
    "plt.plot(xValues, yValues, '.')\n",
    "# plt.xlim(min(vecPixels), max(vecPixels))\n",
    "# plt.ylim(min(vecPixels), max(vecPixels))\n",
    "plt.xlabel('X')\n",
    "plt.ylabel('Y')\n",
    "plt.show()"
   ]
  },
  {
   "cell_type": "markdown",
   "id": "western-housing",
   "metadata": {},
   "source": [
    "<p>Comparison with <b>Center of Mass</b> algorithm:</p>"
   ]
  },
  {
   "cell_type": "code",
   "execution_count": 16,
   "id": "placed-stake",
   "metadata": {},
   "outputs": [
    {
     "data": {
      "image/png": "[encoded data removed]",
      "text/plain": [
       "<Figure size 864x432 with 2 Axes>"
      ]
     },
     "metadata": {
      "needs_background": "light"
     },
     "output_type": "display_data"
    }
   ],
   "source": [
    "mPixel = 4\n",
    "imgChannels = mPixel * nChannels\n",
    "vecPixels = np.linspace(((-1) * imgChannels / 2 + 1),(imgChannels / 2 - 1), imgChannels - 1)\n",
    "Image = np.zeros((imgChannels, imgChannels), dtype = np.int)\n",
    "meanRow = 0\n",
    "meanColumn = 0\n",
    "\n",
    "for nL in range(events):      \n",
    "    sumCol = np.sum(chargeData[0, range(nChannels), nL])    \n",
    "    if (sumCol > 0):\n",
    "        sumRow = np.sum(chargeData[1, range(nChannels), nL])        \n",
    "        if (sumRow > 0):\n",
    "            meanColumn = int(np.round(mPixel * np.sum(chargeData[0, range(nChannels), nL] * range(nChannels)) / sumCol))            \n",
    "            meanRow = int(np.round(mPixel * np.sum(chargeData[1, range(nChannels), nL] * range(nChannels)) / sumRow))            \n",
    "    if ((meanColumn > 0 and meanColumn < imgChannels + 1) and (meanRow > 0 and meanRow < imgChannels + 1)):\n",
    "        Image[meanRow, meanColumn] = Image[meanRow, meanColumn] + 1\n",
    "\n",
    "plt.figure(figsize=(12, 6))\n",
    "plt.imshow(Image, cmap= 'hot', interpolation = 'bilinear', extent=[min(vecPixels), max(vecPixels), min(vecPixels), max(vecPixels)]) \n",
    "plt.colorbar() \n",
    "plt.xlabel('X')\n",
    "plt.ylabel('Y')\n",
    "plt.show()\n"
   ]
  },
  {
   "cell_type": "markdown",
   "id": "weird-design",
   "metadata": {},
   "source": [
    "---\n",
    "### End of GUESS Method"
   ]
  },
  {
   "cell_type": "code",
   "execution_count": null,
   "id": "entire-lying",
   "metadata": {},
   "outputs": [],
   "source": []
  }
 ],
 "metadata": {
  "finalized": {
   "timestamp": 1615907939811,
   "trusted": false
  },
  "kernelspec": {
   "display_name": "Python 3",
   "language": "python",
   "name": "python3"
  },
  "language_info": {
   "codemirror_mode": {
    "name": "ipython",
    "version": 3
   },
   "file_extension": ".py",
   "mimetype": "text/x-python",
   "name": "python",
   "nbconvert_exporter": "python",
   "pygments_lexer": "ipython3",
   "version": "3.8.5"
  }
 },
 "nbformat": 4,
 "nbformat_minor": 5
}
